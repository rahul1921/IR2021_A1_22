{
  "nbformat": 4,
  "nbformat_minor": 0,
  "metadata": {
    "colab": {
      "name": "IR_A1_final.ipynb",
      "provenance": [],
      "collapsed_sections": []
    },
    "kernelspec": {
      "name": "python3",
      "display_name": "Python 3"
    }
  },
  "cells": [
    {
      "cell_type": "code",
      "metadata": {
        "id": "QzIYSVy4rd7Z",
        "colab": {
          "base_uri": "https://localhost:8080/"
        },
        "outputId": "e5adbc38-7a17-430b-800f-697fb4ca8a5e"
      },
      "source": [
        "from google.colab import drive\r\n",
        "drive.mount('/content/drive')"
      ],
      "execution_count": null,
      "outputs": [
        {
          "output_type": "stream",
          "text": [
            "Mounted at /content/drive\n"
          ],
          "name": "stdout"
        }
      ]
    },
    {
      "cell_type": "markdown",
      "metadata": {
        "id": "ZWrgSpnlO0np"
      },
      "source": [
        "Import Libraries"
      ]
    },
    {
      "cell_type": "code",
      "metadata": {
        "id": "eSFsU23wbJVN"
      },
      "source": [
        "import os\r\n",
        "import glob\r\n",
        "import nltk\r\n",
        "from nltk.tokenize import RegexpTokenizer\r\n",
        "from nltk.corpus import stopwords\r\n",
        "from nltk.stem import WordNetLemmatizer \r\n",
        "from nltk.stem.porter import PorterStemmer\r\n",
        "!pip install autocorrect\r\n",
        "from autocorrect import Speller\r\n",
        "from collections import OrderedDict \r\n",
        "from pathlib import Path\r\n",
        "import shutil\r\n",
        "import spacy \r\n",
        "import re\r\n",
        "nltk.download('wordnet')\r\n",
        "nltk.download('stopwords')\r\n",
        "!pip install contractions\r\n",
        "!pip install spacy\r\n",
        "!pip install textblob\r\n",
        "import contractions\r\n",
        "from textblob import TextBlob, Word"
      ],
      "execution_count": null,
      "outputs": []
    },
    {
      "cell_type": "code",
      "metadata": {
        "id": "IGq7Vu2mbdkt"
      },
      "source": [
        "import joblib"
      ],
      "execution_count": null,
      "outputs": []
    },
    {
      "cell_type": "markdown",
      "metadata": {
        "id": "_IkAPI90Pbka"
      },
      "source": [
        "Cleaning\r\n",
        "1. regex cleaning\r\n",
        "2.lowecasing\r\n",
        "3.spelling (not good)\r\n",
        "4.puctuation stopwords\r\n",
        "5.extraction + stemming"
      ]
    },
    {
      "cell_type": "code",
      "metadata": {
        "id": "kKev_HqDN9mN"
      },
      "source": [
        "documentsDict = {}\r\n",
        "def cleaning(filepath,filename,flag):\r\n",
        "  if(flag==1):\r\n",
        "    f = open(filepath,'r',errors = 'ignore').read()\r\n",
        "    clean_S = contractions.fix(f)\r\n",
        "    clean_S=re.sub(\"([\\-]{1,2})\", \" \",clean_S)\r\n",
        "    clean_s=re.sub(\"[\\,]\", \" \",clean_S)\r\n",
        "    clean_S = re.sub(r'[\\!@#$%^&\\*()\\_+={}\\:\\;<>\\?/\\|\\-/\"\\']*',\"\", clean_S)  #junk symbols\r\n",
        "    # clean_S = re.sub(r\"(.)\\1{2}\",\"\",clean_S)  #for elongated words\r\n",
        "    clean_S=re.sub(\"([\\.\\!]{2})\", \" \",clean_S)  #removing punctuations\r\n",
        "    clean_S = re.sub('\\s+', ' ', clean_S)    \r\n",
        "    clean_S=re.sub(\"[^a-zA-Z\\s\\n]\", \" \",clean_S)  #used to eliminate non-ascii and numeric symbols \r\n",
        "    clean_S = re.sub(r\"(.)\\1{2}\",\"\",clean_S)  #for elongated words\r\n",
        "    clean_S = clean_S.lower()\r\n",
        "    documentsDict[filename]=clean_S\r\n",
        "\r\n",
        "  elif(flag==0):\r\n",
        "    filepath = contractions.fix(filepath)\r\n",
        "    filepath=re.sub(\"([\\-]{1,2})\", \" \",filepath)\r\n",
        "    filepath=re.sub(\"[0-9]\", \"\",filepath)\r\n",
        "    # filepath=re.sub(\"[\\,]\", \" \",filepath)\r\n",
        "    filepath = re.sub(r'[\\!@#$%^&\\*()\\_+={}\\:\\;<>\\?/\\|\\-/\"\\']*',\"\", filepath)\r\n",
        "    # filepath = re.sub(r\"(.)\\1{2}\",\"\",filepath)  #for elongated words\r\n",
        "    filepath=re.sub(\"([\\.\\!]{2})\", \" \",filepath)\r\n",
        "    filepath = re.sub('\\s+', ' ', filepath)\r\n",
        "    filepath=re.sub(\"[^a-zA-Z\\s\\n]\", \" \",filepath)\r\n",
        "    filepath = re.sub(r\"(.)\\1{2}\",\"\",filepath)  #for elongated words\r\n",
        "    filepath = filepath.lower()\r\n",
        "    return filepath"
      ],
      "execution_count": null,
      "outputs": []
    },
    {
      "cell_type": "code",
      "metadata": {
        "id": "Ba6PXAT66KFq"
      },
      "source": [
        "files = os.listdir('/content/drive/MyDrive/Sem2/IR/Ass1/stories-20210226T135554Z-001/stories')\r\n",
        "for file in files:\r\n",
        "       cleaning('/content/drive/MyDrive/Sem2/IR/Ass1/stories-20210226T135554Z-001/stories/'+file,file,1)  "
      ],
      "execution_count": null,
      "outputs": []
    },
    {
      "cell_type": "markdown",
      "metadata": {
        "id": "015KhdvkPljJ"
      },
      "source": [
        "Tokenization & Punctuation Removal"
      ]
    },
    {
      "cell_type": "code",
      "metadata": {
        "id": "8ar0IHkdfTM-"
      },
      "source": [
        "def gen_token(flag,query):\r\n",
        "  tokenizer = RegexpTokenizer(r'\\w+')\r\n",
        "  if(flag==1):\r\n",
        "    for docname in documentsDict:\r\n",
        "        documentsDict[docname] = tokenizer.tokenize(str(documentsDict[docname]))\r\n",
        "\r\n",
        "  elif(flag==0):\r\n",
        "    query = tokenizer.tokenize(query)\r\n",
        "    return query"
      ],
      "execution_count": null,
      "outputs": []
    },
    {
      "cell_type": "markdown",
      "metadata": {
        "id": "h4YYa9cMPrng"
      },
      "source": [
        "Removing Stopwords"
      ]
    },
    {
      "cell_type": "code",
      "metadata": {
        "id": "SfkSRKCefgsD"
      },
      "source": [
        "def remove_stopword(flag,query):\r\n",
        "  stopwordsList = stopwords.words('english')\r\n",
        "  if(flag==1):\r\n",
        "    for docname in documentsDict:\r\n",
        "        for word in documentsDict[docname]:\r\n",
        "            if word in stopwordsList:\r\n",
        "                documentsDict[docname].remove(word)\r\n",
        "  elif(flag==0):\r\n",
        "      q=[]\r\n",
        "      for word in query:\r\n",
        "            if word not in stopwordsList:\r\n",
        "              q.append(word)\r\n",
        "      query=q.copy()\r\n",
        "      return query          "
      ],
      "execution_count": null,
      "outputs": []
    },
    {
      "cell_type": "code",
      "metadata": {
        "id": "0ZpWeDcHKBOZ"
      },
      "source": [
        "gen_token(1,\"\")\r\n",
        "remove_stopword(1,\"\")"
      ],
      "execution_count": null,
      "outputs": []
    },
    {
      "cell_type": "markdown",
      "metadata": {
        "id": "LfQXHxB8PvoS"
      },
      "source": [
        "Lemmatization using textblob"
      ]
    },
    {
      "cell_type": "code",
      "metadata": {
        "id": "UJQ1uMiBUlw1"
      },
      "source": [
        "def normalise_using_textblob(flag,query):\n",
        "  if(flag==1):       \n",
        "    for docname in documentsDict:\n",
        "        dataList = []\n",
        "        for word in documentsDict[docname]:\n",
        "            w = Word(word)\n",
        "            dataList.append(w.lemmatize())\n",
        "        documentsDict[docname] = dataList   \n",
        "\n",
        "  elif(flag==0):\n",
        "    ans = []\n",
        "    for word in query:\n",
        "      w=Word(word)\n",
        "      ans.append(w.lemmatize())\n",
        "    return ans        "
      ],
      "execution_count": null,
      "outputs": []
    },
    {
      "cell_type": "markdown",
      "metadata": {
        "id": "S46Zv7nDQJuj"
      },
      "source": [
        "Unigram Inverted Index Data Structure"
      ]
    },
    {
      "cell_type": "code",
      "metadata": {
        "id": "_RALdWP2ryva"
      },
      "source": [
        "vocabulary = []\r\n",
        "file = open('vocab.txt','w')\r\n",
        "for docname in documentsDict:\r\n",
        "    for word in documentsDict[docname]:\r\n",
        "        vocabulary.append(word)\r\n",
        "\r\n",
        "vocabulary = set(vocabulary)\r\n",
        "for word in vocabulary:\r\n",
        "   file.write(word+\" , \")\r\n",
        "file.close"
      ],
      "execution_count": null,
      "outputs": []
    },
    {
      "cell_type": "code",
      "metadata": {
        "id": "ekcElwBC4FW6"
      },
      "source": [
        "invertedIndex = {}\r\n",
        "postfile = open('posting.txt','w') \r\n",
        "for term in vocabulary:\r\n",
        "    postingList = []\r\n",
        "    postfile.write(\"\\n\"+term + \" - \")\r\n",
        "    for docid in documentsDict:\r\n",
        "        if term in documentsDict[docid]:\r\n",
        "            postingList.append(docid)\r\n",
        "            postfile.write(docid+\" , \")\r\n",
        "    invertedIndex[term] = postingList  "
      ],
      "execution_count": null,
      "outputs": []
    },
    {
      "cell_type": "code",
      "metadata": {
        "id": "8KEdGmO9bIwd"
      },
      "source": [
        "#joblib.dump(invertedIndex, '/content/drive/MyDrive/IR/invertedIndex')\r\n",
        "invertedIndex = joblib.load('/content/drive/MyDrive/IR/invertedIndex') \r\n",
        "postings=invertedIndex"
      ],
      "execution_count": null,
      "outputs": []
    },
    {
      "cell_type": "markdown",
      "metadata": {
        "id": "MJY7y0XoSCEC"
      },
      "source": [
        "Input Query and Operator"
      ]
    },
    {
      "cell_type": "code",
      "metadata": {
        "id": "xDBmTsKDiJrB"
      },
      "source": [
        "def proquery(query,operator):\r\n",
        "  queryFinal=[]\r\n",
        "  query = cleaning(query,\" \",0)\r\n",
        "  queryFinal = gen_token(0,query)\r\n",
        "  queryFinal = remove_stopword(0,queryFinal)\r\n",
        "  queryFinal = normalise_using_textblob(0,queryFinal)\r\n",
        "  #queryFinal = queryFinal.replace(\",\",\" \").split()\r\n",
        "  operator = re.sub(\"[^a-zA-Z\\s\\n\\,]\", \" \",operator)\r\n",
        "  op = operator.split(\",\")\r\n",
        "  op = [x.strip(\" \") for x in op]\r\n",
        "  op = [x.upper() for x in op]\r\n",
        "  return queryFinal,op "
      ],
      "execution_count": null,
      "outputs": []
    },
    {
      "cell_type": "code",
      "metadata": {
        "id": "5abM927V0ejZ"
      },
      "source": [
        "def partc(queryFinal,op):\r\n",
        "  count = 0\r\n",
        "  word1=queryFinal[0]\r\n",
        "  word2=queryFinal[1]\r\n",
        "  docList1=[]\r\n",
        "  docList2=[]\r\n",
        "  finalList=[]\r\n",
        "  for i in range(len(queryFinal)-1):\r\n",
        "      if op[i] == 'AND':\r\n",
        "        if i == 0 :\r\n",
        "          if (word1 in postings.keys()):\r\n",
        "           docList1 = postings[word1].copy()\r\n",
        "          if (word2 in postings.keys()):\r\n",
        "           docList2 = postings[word2].copy()\r\n",
        "        else :\r\n",
        "          docList1=[]\r\n",
        "          docList1 = finalList\r\n",
        "          finalList = []\r\n",
        "          word2=queryFinal[i+1]\r\n",
        "          if (word2 in postings.keys()):\r\n",
        "              docList2=[]\r\n",
        "              docList2 = postings[word2].copy()\r\n",
        "        for item in docList1:\r\n",
        "            if item in docList2:\r\n",
        "              count +=1\r\n",
        "              finalList.append(item)\r\n",
        "      if op[i] == 'OR':\r\n",
        "        if i == 0 :\r\n",
        "          if (word1 in postings.keys()):\r\n",
        "           docList1 = postings[word1].copy()\r\n",
        "          if (word2 in postings.keys()):\r\n",
        "           docList2 = postings[word2].copy()\r\n",
        "        else :\r\n",
        "          docList1=[]\r\n",
        "          docList1 = finalList\r\n",
        "          finalList = []\r\n",
        "          word2=queryFinal[i+1]\r\n",
        "          if (word2 in postings.keys()):\r\n",
        "              docList2=[]\r\n",
        "              docList2 = postings[word2].copy()\r\n",
        "        for item in docList1:\r\n",
        "            count += 1\r\n",
        "            finalList.append(item)\r\n",
        "            if item in docList2:\r\n",
        "              docList2.remove(item)\r\n",
        "        for item in docList2:\r\n",
        "          count += 1\r\n",
        "          finalList.append(item)\r\n",
        "      if op[i] == 'AND NOT':\r\n",
        "        if i == 0 :\r\n",
        "          if (word1 in postings.keys()):\r\n",
        "           docList1 = postings[word1].copy()\r\n",
        "          if (word2 in postings.keys()):\r\n",
        "           docList2 = postings[word2].copy()\r\n",
        "          for item in docList1:\r\n",
        "            count += 1\r\n",
        "            finalList.append(item)\r\n",
        "            if item in docList2:\r\n",
        "              finalList.remove(item)\r\n",
        "           \r\n",
        "        else :\r\n",
        "          docList1=[]\r\n",
        "          docList1 = finalList\r\n",
        "          finalList = []\r\n",
        "          word2=queryFinal[i+1]\r\n",
        "          if (word2 in postings.keys()):\r\n",
        "              docList2=[]\r\n",
        "              docList2 = postings[word2].copy()\r\n",
        "          for item in docList1:\r\n",
        "            finalList.append(item)\r\n",
        "            if item in docList2:\r\n",
        "              finalList.remove(item)\r\n",
        "              count += 1\r\n",
        "      if op[i] == 'OR NOT':\r\n",
        "        if i == 0 :\r\n",
        "          if (word1 in postings.keys()):\r\n",
        "           docList1 = postings[word1].copy()\r\n",
        "          for item in postings.keys():\r\n",
        "             if item != word2:\r\n",
        "               for u in postings[item]:\r\n",
        "                  if u not in docList2:\r\n",
        "                    docList2.append(u)\r\n",
        "        \r\n",
        "        else :\r\n",
        "          docList1=[]\r\n",
        "          docList1 = finalList\r\n",
        "          finalList = []\r\n",
        "\r\n",
        "          word2=queryFinal[i+1]\r\n",
        "          docList2=[]\r\n",
        "          for item in postings.keys():\r\n",
        "             if item != word2:\r\n",
        "               for u in postings[item]:\r\n",
        "                    if u not in docList2:\r\n",
        "                       docList2.append(u)\r\n",
        "        for item in docList1:\r\n",
        "            count += 1\r\n",
        "            finalList.append(item)\r\n",
        "            if item in docList2:\r\n",
        "              docList2.remove(item)\r\n",
        "           \r\n",
        "        for item in docList2:\r\n",
        "          count += 1\r\n",
        "          finalList.append(item)\r\n",
        "  print(\"Output - \")\r\n",
        "  print(\"Number of documents matched: \",len(finalList))\r\n",
        "  print(\"No. of comparisons required: \",count)\r\n",
        "  print(finalList)"
      ],
      "execution_count": null,
      "outputs": []
    },
    {
      "cell_type": "code",
      "metadata": {
        "colab": {
          "base_uri": "https://localhost:8080/"
        },
        "id": "eY3_l-g0N2mU",
        "outputId": "cf250910-3727-4a90-d176-90a72db42055"
      },
      "source": [
        "query = \"lion STO1OD 1 thoughtfully a for a moment\"\r\n",
        "operator = \"OR,OR,OR\"\r\n",
        "queryFinal,op=proquery(query,operator)\r\n",
        "partc(queryFinal,op)"
      ],
      "execution_count": null,
      "outputs": [
        {
          "output_type": "stream",
          "text": [
            "Output - \n",
            "Number of documents matched:  270\n",
            "No. of comparisons required:  695\n",
            "['yukon.txt', 'vgilante.txt', 'veiledl.txt', 'abbey.txt', 'beggars.txt', 'aesop11.txt', 'aesopa10.txt', 'girlclub.txt', 'fgoose.txt', 'holmesbk.txt', 'monkking.txt', 'mouslion.txt', 'lionmosq.txt', 'lionmane.txt', 'mazarin.txt', 'lionwar.txt', 'redragon.txt', 'pussboot.txt', 'silverb.txt', 'blasters.fic', 'quarter.c18', 'archive', 'bookem2', 'fic5', 'grav', 'chik', 'idi.hum', 'korea.s', '13chil.txt', '6napolen.txt', '3gables.txt', 'wlgirl.txt', 'advsayed.txt', 'wisteria.txt', '3student.txt', '5orange.txt', '4moons.txt', 'zombies.txt', '7voysinb.txt', 'ab40thv.txt', 'alad10.txt', 'blh.txt', 'bishop00.txt', 'bruce-p.txt', 'aislesix.txt', 'blackp.txt', 'aquith.txt', 'arctic.txt', 'blind.txt', 'cooldark.txt', 'bulfelis.txt', 'bulphrek.txt', 'bulmrx.txt', 'bureau.txt', 'buldream.txt', 'darkness.txt', 'dskool.txt', 'cmoutmou.txt', 'cybersla.txt', 'bulprint.txt', 'diaryflf.txt', 'bulzork1.txt', 'cardcnt.txt', 'fantasy.txt', 'flytrunk.txt', 'game.txt', 'floobs.txt', 'empty.txt', 'enginer.txt', 'dtruck.txt', 'friends.txt', 'emperor3.txt', 'foxngrap.txt', 'gold3ber.txt', 'goldenp.txt', 'empnclot.txt', 'fred.txt', 'healer.txt', 'history5.txt', 'hound-b.txt', 'hellmach.txt', 'goldgoos.txt', 'jackbstl.txt', 'gulliver.txt', 'hareporc.txt', 'haretort.txt', 'goldfish.txt', 'hitch2.txt', 'hitch3.txt', 'graymare.txt', 'lament.txt', 'musgrave.txt', 'long1-3.txt', 'lgoldbrd.txt', 'missing.txt', 'lmtchgrl.txt', 'lrrhood.txt', 'keepmodu.txt', 'knuckle.txt', 'mtinder.txt', 'shoscomb.txt', 'poplstrm.txt', 'radar_ra.txt', 'paink-ws.txt', 'shulk.txt', 'pinocch.txt', 'running.txt', 'pepdegener.txt', 'sick-kid.txt', 'roger1.txt', 'pphamlin.txt', 'snow.txt', 'snowmaid.txt', 'tcoa.txt', 'space.txt', 'timetrav.txt', 'tree.txt', 'tearglas.txt', 'solitary.txt', 'unluckwr.txt', 'vainsong.txt', 'sleprncs.txt', 'taxnovel.txt', 'sqzply.txt', 'socialvikings.txt', 'snowqn1.txt', 'sre10.txt', 'sre09.txt', 'srex.txt', 'sre_finl.txt', 'sre04.txt', 'nihgel_8.9', 'breaks2.asc', 'beast.asc', '18.lws', 'bookem.1', 'wall.art', 'elite.app', 'breaks3.asc', 'breaks1.asc', 'stainles.ana', 'nigel.5', 'outcast.dos', 'pepsi.degenerat', 'jackmac.fic', 'home.fil', 'brain.damage', 'quarter.c17', 'freeman.fil', 'quarter.c3', 'dwar', 'fran', 'cum', 'dan', 'fic2', 'lil', 'blue', 'ltp', 'inter', 'floc', 'ghost', 'fic1', 'igiv', 'enc', 'hils', 'bran', 'clon', 'ezoff', 'fic4', 'fic3', 'forgotte', 'superg1', 'timem.hac', 'qcarroll', 'beyond.hum', 'reap', 'rock', 'tuc_mees', 's&m_plot', 'quest', 'angelfur.hum', 'robotech', 'sis', 'perf', 'psi', 'valen', 's&m_that', 'aluminum.hum', 'spam.key', 'enchdup.hum', 'crazy.hum', 'fantasy.hum', 'ladylust.hum', 'eyeargon.hum', 'testpilo.hum', 'imagin.hum', 'jerichms.hum', 'corcor.hum', 'immorti.hum', 'piracy.sto', 'hop-frog.poe', 'nitepeek.sto', 'goldbug.poe', 'cooldark.sto', 'rocket.sf', 'descent.poe', 'friend.s', 'spectacl.poe', 'island.poe', 'aisle.six', 'arcadia.sty', 'social.vikings', 'bulwer.lytton', '3lpigs.txt', 'adv_alad.txt', 'beautbst.txt', 'buggy.txt', 'bluebrd.txt', 'bgcspoof.txt', 'blabnove.txt', 'angry_ca.txt', 'bulolli1.txt', 'deer.txt', 'dopedenn.txt', 'bulironb.txt', 'bulolli2.txt', 'fish.txt', 'enya_trn.txt', 'foxncrow.txt', 'hotline1.txt', 'greedog.txt', 'hotline3.txt', 'horswolf.txt', 'mattress.txt', 'mcdonaldl.txt', 'lure.txt', 'plescopm.txt', 'rainda.txt', 'psf.txt', 'pregn.txt', 'retrib.txt', 'sight.txt', 'sre-dark.txt', 'spiders.txt', 'sre06.txt', 'sre07.txt', 'day.in.mcdonald', 'nigel.10', '16.lws', 'burintrv.92', '20.lws', 'nigel.2', 'nigel.3', 'quarter.c1', '19.lws', 'withdraw.cyb', 'blak', 'bestwish', 'quarter.c13', 'fourth.fic', 'deal', 'fic7', 'immortal', 'bookem3', 'szechuan', '14.lws', 'consumdr.hum', 'blabnove.hum', 'vday.hum', 'domain.poe']\n"
          ],
          "name": "stdout"
        }
      ]
    },
    {
      "cell_type": "code",
      "metadata": {
        "id": "3nSxP5bMiBJ9",
        "colab": {
          "base_uri": "https://localhost:8080/"
        },
        "outputId": "76056885-7649-4a33-9cee-0e7ba929870e"
      },
      "source": [
        "query = \"telephone,   paved, roads\"\r\n",
        "operator = \"[ OR NOT, AND NOT]\"\r\n",
        "queryFinal,op=proquery(query,operator)\r\n",
        "partc(queryFinal,op)"
      ],
      "execution_count": null,
      "outputs": [
        {
          "output_type": "stream",
          "text": [
            "Output - \n",
            "Number of documents matched:  348\n",
            "No. of comparisons required:  586\n",
            "['aircon.txt', 'bulzork1.txt', 'excerpt.txt', 'hotline4.txt', 'graymare.txt', 'paink-ws.txt', 'running.txt', 'space.txt', 'telefone.txt', 'sqzply.txt', 'jaynejob.asc', 'ghost', 'szechuan', 'timem.hac', 'progx', 'excerpt.hum', 'corcor.hum', 'korea.s', 'eyeargon.hum', '3wishes.txt', 'bagelman.txt', 'bagel.man', 'dakota.txt', 'nigel.10', '4moons.txt', 'modemhippy.txt', 'startrek.txt', 'sre02.txt', 'sre03.txt', 'deathmrs.d', 'quarter.c3', 'rocket.sf', 'sre_finl.txt', 'quest', 'elite.app', 'fable.txt', 'beast.asc', 'tao3.dos', 'knuckle.txt', 'panama.txt', 'rainda.txt', '18.lws', 'times.fic', 'dan', 's&m_that', 'sre09.txt', 'bulnland.txt', 'horsdonk.txt', 'sanpedr2.txt', 'sre_sei.txt', 'blue', 'bishop00.txt', 'burintrv.92', 'spectacl.poe', 'berternie.txt', 'how.ernie.bert', 'hell4.txt', 'fic3', 'batlslau.txt', 'buldream.txt', 'bulhuntr.txt', 'bulironb.txt', 'cardcnt.txt', 'girlclub.txt', 'tcoa.txt', 'tearglas.txt', 'sre05.txt', 'nigel.2', 'withdraw.cyb', 'quarter.c13', 'deal', 'fic1', 'beyond.hum', 'tuc_mees', 'arcadia.sty', '7voysinb.txt', 'ccm.txt', 'dskool.txt', 'bulnoopt.txt', 'bulprint.txt', 'gold3ber.txt', 'lgoldbrd.txt', 'lmermaid.txt', 'lpeargrl.txt', 'lrrhood.txt', 'narciss.txt', 'keepmodu.txt', 'retrib.txt', 'terrorbears.txt', 'sleprncs.txt', 'snowqn1.txt', 'burintrv.66', 'wall.art', 'quarter.c9', 'brain.damage', 'floc', 'grav', 'gay', 'psyc', 'bigred.hum', 'fantas.hum', 'island.poe', 'domain.poe', 'superg1', 'igiv', 'jackmac.fic', 'fic2', '3student.txt', 'blh.txt', 'mindprob.txt', 'lure.txt', 'kharian.txt', 'timetrav.txt', 'sre10.txt', 'sre04.txt', 'nigel.4', 'quarter.c8', 'home.fil', 'tin', 'descent.poe', 'adler.txt', 'fred.txt', 'thewave', 'flktrp.txt', 'holmesbk.txt', 'quarter.c19', 'freeman.fil', 'angelfur.hum', 'piracy.sto', 'paul_har.sto', 's&m_plot', 'non4', 'fea2', 'whgdsreg.reg', 'keeping.insanit', 'fourth.fic', 'lil', '3gables.txt', '3lpigs.txt', 'wlgirl.txt', 'weaver.txt', '7oldsamr.txt', 'wolflamb.txt', 'advsayed.txt', 'wolf7kid.txt', 'adv_alad.txt', 'ab40thv.txt', 'weeprncs.txt', 'wolfcran.txt', 'alad10.txt', 'buggy.txt', 'bgb.txt', 'alissadl.txt', 'bluebrd.txt', 'advtthum.txt', 'aislesix.txt', 'blabnove.txt', 'arctic.txt', 'buldetal.txt', 'bulfelis.txt', 'cmoutmou.txt', 'campfire.txt', 'discocanbefun.txt', 'crabhern.txt', 'bulolli2.txt', 'glimpse1.txt', 'foxnstrk.txt', 'fish.txt', 'game.txt', 'floobs.txt', 'gloves.txt', 'encamp01.txt', 'gatherng.txt', 'emperor3.txt', 'gemdra.txt', 'empnclot.txt', 'frogp.txt', 'hotline1.txt', 'healer.txt', 'helmfuse.txt', 'hansgrtl.txt', 'jackbstl.txt', 'hareporc.txt', 'hareleph.txt', 'imonly17.txt', 'haretort.txt', 'goldfish.txt', 'hotline3.txt', 'hole2nar.txt', 'monkking.txt', 'mydream.txt', 'kzap.txt', 'mouslion.txt', 'lionmosq.txt', 'monksol.txt', 'mazarin.txt', 'mike.txt', 'mtinder.txt', 'lionwar.txt', 'shrdfarm.txt', 'poem-2.txt', 'plescopm.txt', 'omarsheh.txt', 'poplstrm.txt', 'pinocch.txt', 'poem-4.txt', 'parotsha.txt', 'pepdegener.txt', 'pregn.txt', 'redragon.txt', 'pussboot.txt', 'pphamlin.txt', 'tctac.txt', 'sucker.txt', 'vaincrow.txt', 'socialvikings.txt', 'uglyduck.txt', 'tinsoldr.txt', 'sre_feqh.txt', 'sretrade.txt', 'srex.txt', 'sre07.txt', 'sre08.txt', 'bookem.1', 'burintrv.78', 'bulwer.lytton', '20.lws', '17.lws', 'jim.asc', 'stainles.ana', 'prince.art', '19.lws', 'pepsi.degenerat', 'quarter.c2', 'fowl.death', 'blak', 'cow.exploder', 'bern', 'quarter.c14', 'quarter.c12', 'bestwish', 'quarter.c5', 'asop', 'quarter.c10', 'blackrdr', 'quarter.c17', 'quarter.c15', 'dwar', 'bookem2', 'ltp', 'comp', 'fea3', 'fic7', 'enc', 'bran', 'clon', 'ezoff', 'chik', 'bookem3', 'girl', 'bumm', 'non3', 'quickfix', 'curious.george', 'wrt', 'thanksg', 'stsgreek', 'disco.be.fun', 'confilct.fun', 'write', 'sis', 'psi', 'quot', 'non2', 'mindwar', 'fear.hum', 'idi.hum', 'spam.key', 'ladylust.hum', 'blabnove.hum', 'testpilo.hum', 'contrad1.hum', 'greatlrn.leg', 'imagin.hum', 't_zone.jok', 'jerichms.hum', 'immorti.hum', 'goldbug.poe', 'textfile.primer', 'friend.s', 'aisle.six', 'social.vikings', 'mario.txt', 'nigel.7', 'sre01.txt', 'bullove.txt', 'kneeslapper.txt', 'shulk.txt', 'traitor.txt', 'fea1', 'kneeslapper', 'elveshoe.txt', 'tailbear.txt', 'luf', 'dicksong.txt', 'vainsong.txt', 'antcrick.txt', 'dicegame.txt', 'cum', 'burn', 'lionbird', 'flytrunk.txt', 'frum', '14.lws', 'quarter.c7', 'fearmnky', 'rid.txt', 'aminegg.txt', 'wanderer.fun', 'fleas.txt', 'stairdre.txt', 'flute.txt', 'snowmaid.txt', 'quarter.c11', 'blasters.fic', 'oxfrog.txt', 'bulolli1.txt', 'sunday.txt', 'cameloto.hum', 'toilet.s', 'horswolf.txt', 'poem-1.txt', 'qcarroll', 'blossom.pom', '3sonnets.vrs', 'foxncrow.txt', 'obstgoat.txt', 'the-tree.txt', 'quarter.c16', 'foxngrap.txt', 'peace.fun', 'life.txt', 'myeyes', 'vampword.txt', 'clevdonk.txt', 'quarter.c6', 'quarter.c4', 'greedog.txt']\n"
          ],
          "name": "stdout"
        }
      ]
    },
    {
      "cell_type": "code",
      "metadata": {
        "colab": {
          "base_uri": "https://localhost:8080/"
        },
        "id": "ckOJctLaQvpv",
        "outputId": "cffc3525-88ae-4e27-9684-d1e37c085c74"
      },
      "source": [
        "query = \"equality1, sculpted?, plenipotentiary\"\r\n",
        "operator = \"[ OR NOT, AND NOT]\"\r\n",
        "queryFinal,op=proquery(query,operator)\r\n",
        "partc(queryFinal,op)"
      ],
      "execution_count": null,
      "outputs": [
        {
          "output_type": "stream",
          "text": [
            "Output - \n",
            "Number of documents matched:  466\n",
            "No. of comparisons required:  468\n",
            "['gulliver.txt', 'outcast.dos', 'tao3.dos', 'aesopa10.txt', 'perf', 'enchdup.hum', 'eyeargon.hum', '3wishes.txt', 'bagelman.txt', 'diaryflf.txt', 'bagel.man', 'aesop11.txt', 'dakota.txt', 'darkness.txt', 'long1-3.txt', 'nigel.10', '4moons.txt', 'beggars.txt', 'fgoose.txt', 'hound-b.txt', 'hellmach.txt', 'hitch2.txt', 'hitch3.txt', 'modemhippy.txt', 'startrek.txt', 'sre02.txt', 'sre03.txt', '16.lws', 'deathmrs.d', 'quarter.c3', 'crazy.hum', 'rocket.sf', 'sre_finl.txt', 'quest', 'elite.app', 'fable.txt', 'history5.txt', 'beast.asc', 'timem.hac', 'cooldark.txt', 'cybersla.txt', 'knuckle.txt', 'panama.txt', 'rainda.txt', 'radar_ra.txt', '18.lws', 'times.fic', 'archive', 'dan', 's&m_that', 'cooldark.sto', 'sre09.txt', 'bulnland.txt', 'bureau.txt', 'horsdonk.txt', 'lament.txt', 'fic5', 'sanpedr2.txt', 'sick-kid.txt', 'solitary.txt', 'sre_sei.txt', 'blue', 'bishop00.txt', '6napolen.txt', 'burintrv.92', 'spectacl.poe', 'berternie.txt', 'how.ernie.bert', 'yukon.txt', 'blackp.txt', 'hell4.txt', 'fic3', 'silverb.txt', 'fran', 'batlslau.txt', 'wisteria.txt', 'vgilante.txt', 'zombies.txt', 'veiledl.txt', 'assorted.txt', 'buldream.txt', 'bulhuntr.txt', 'bulironb.txt', 'cardcnt.txt', 'fantasy.txt', 'girlclub.txt', 'musgrave.txt', 'missing.txt', 'paink-ws.txt', 'tcoa.txt', 'tearglas.txt', 'sre05.txt', 'nihgel_8.9', 'nigel.2', 'withdraw.cyb', 'quarter.c13', 'deal', 'fic1', 'hils', 'forgotte', 'beyond.hum', 'reap', 'rock', 'tuc_mees', 'fantasy.hum', 'nitepeek.sto', 'arcadia.sty', '13chil.txt', '6ablemen.txt', '7voysinb.txt', 'beautbst.txt', 'bgcspoof.txt', 'ccm.txt', 'dskool.txt', 'bulnoopt.txt', 'bulprint.txt', 'charlie.txt', 'empty.txt', 'gold3ber.txt', 'mcdonaldl.txt', 'lgoldbrd.txt', 'lmermaid.txt', 'lpeargrl.txt', 'lionmane.txt', 'lrrhood.txt', 'narciss.txt', 'keepmodu.txt', 'retrib.txt', 'roger1.txt', 'partya.txt', 'terrorbears.txt', 'sleprncs.txt', 'sqzply.txt', 'snowqn1.txt', 'day.in.mcdonald', 'burintrv.66', 'wall.art', 'breaks3.asc', 'breaks1.asc', 'quarter.c9', 'brain.damage', 'inter', 'floc', 'ghost', 'grav', 'gay', 'psyc', 'candle.hum', 'bigred.hum', 'vday.hum', 'fantas.hum', 'island.poe', 'domain.poe', 'superg1', 'igiv', '5orange.txt', 'jackmac.fic', 'fic2', '3student.txt', 'abbey.txt', 'blh.txt', 'bruce-p.txt', 'enginer.txt', 'mindprob.txt', 'lure.txt', 'kharian.txt', 'shoscomb.txt', 'timetrav.txt', 'sre10.txt', 'sre04.txt', 'breaks2.asc', 'nigel.4', 'quarter.c8', 'home.fil', 'tin', 'descent.poe', 'adler.txt', 'fred.txt', 'thewave', 'aquith.txt', 'flktrp.txt', 'holmesbk.txt', 'sre-dark.txt', 'taxnovel.txt', 'quarter.c19', 'freeman.fil', 'angelfur.hum', 'safe', 'piracy.sto', 'paul_har.sto', 'enya_trn.txt', 's&m_plot', 'non4', 'fea2', '100west.txt', 'whgdsreg.reg', 'keeping.insanit', 'quarter.c18', 'fourth.fic', 'lil', '3gables.txt', '3lpigs.txt', 'wlgirl.txt', 'weaver.txt', '7oldsamr.txt', 'wolflamb.txt', 'advsayed.txt', 'wolf7kid.txt', 'adv_alad.txt', 'ab40thv.txt', 'weeprncs.txt', 'wolfcran.txt', 'alad10.txt', 'buggy.txt', 'bgb.txt', 'alissadl.txt', 'bluebrd.txt', 'advtthum.txt', 'aislesix.txt', 'blabnove.txt', 'arctic.txt', 'buldetal.txt', 'angry_ca.txt', 'blind.txt', 'bulfelis.txt', 'deer.txt', 'bulphrek.txt', 'bulmrx.txt', 'cmoutmou.txt', 'dopedenn.txt', 'campfire.txt', 'discocanbefun.txt', 'crabhern.txt', 'bulzork1.txt', 'bulolli2.txt', 'glimpse1.txt', 'foxnstrk.txt', 'fish.txt', 'game.txt', 'floobs.txt', 'gloves.txt', 'encamp01.txt', 'dtruck.txt', 'friends.txt', 'gatherng.txt', 'emperor3.txt', 'goldenp.txt', 'excerpt.txt', 'gemdra.txt', 'empnclot.txt', 'frogp.txt', 'empsjowk.txt', 'hotline1.txt', 'healer.txt', 'helmfuse.txt', 'hansgrtl.txt', 'hotline4.txt', 'goldgoos.txt', 'jackbstl.txt', 'hareporc.txt', 'hareleph.txt', 'imonly17.txt', 'haretort.txt', 'goldfish.txt', 'hotline3.txt', 'hole2nar.txt', 'graymare.txt', 'monkking.txt', 'mattress.txt', 'mydream.txt', 'kzap.txt', 'lmtchgrl.txt', 'mouslion.txt', 'melissa.txt', 'lionmosq.txt', 'monksol.txt', 'mazarin.txt', 'mike.txt', 'mtinder.txt', 'lionwar.txt', 'musibrem.txt', 'shrdfarm.txt', 'poem-2.txt', 'plescopm.txt', 'omarsheh.txt', 'poplstrm.txt', 'psf.txt', 'pinocch.txt', 'running.txt', 'poem-4.txt', 'parotsha.txt', 'pepdegener.txt', 'pregn.txt', 'redragon.txt', 'reality.txt', 'sight.txt', 'pussboot.txt', 'pphamlin.txt', 'snow.txt', 'space.txt', 'tree.txt', 'spiders.txt', 'tctac.txt', 'unluckwr.txt', 'sucker.txt', 'vaincrow.txt', 'spider.txt', 'socialvikings.txt', 'uglyduck.txt', 'tinsoldr.txt', 'sre_feqh.txt', 'sre06.txt', 'sretrade.txt', 'srex.txt', 'sre07.txt', 'sre08.txt', 'jaynejob.asc', 'bookem.1', 'burintrv.78', 'nigel.6', 'bulwer.lytton', '20.lws', '17.lws', 'nigel.3', 'nigel.1', 'jim.asc', 'stainles.ana', 'prince.art', 'quarter.c1', '19.lws', 'nigel.5', 'pepsi.degenerat', 'quarter.c2', 'fowl.death', 'blak', 'cow.exploder', 'bern', 'quarter.c14', 'quarter.c12', 'bestwish', 'quarter.c5', 'asop', 'quarter.c10', 'blackrdr', 'quarter.c17', 'quarter.c15', 'dwar', 'bookem2', 'ltp', 'comp', 'bram', 'fea3', 'fic7', 'enc', 'immortal', 'bran', 'clon', 'ezoff', 'fic4', 'chik', 'bookem3', 'girl', 'bumm', 'szechuan', 'non3', 'quickfix', 'curious.george', 'wrt', 'thanksg', 'stsgreek', 'disco.be.fun', 'altside.hum', 'confilct.fun', 'write', 'sis', 'progx', 'psi', 'valen', 'quot', 'non2', 'mindwar', 'aluminum.hum', 'fear.hum', 'idi.hum', 'spam.key', 'excerpt.hum', 'ladylust.hum', 'consumdr.hum', 'blabnove.hum', 'testpilo.hum', 'contrad1.hum', 'greatlrn.leg', 'imagin.hum', 't_zone.jok', 'jerichms.hum', 'corcor.hum', 'immorti.hum', 'hop-frog.poe', 'goldbug.poe', 'textfile.primer', 'korea.s', 'friend.s', 'aisle.six', 'social.vikings', 'wombat.und', 'mario.txt', 'nigel.7', 'sre01.txt', 'bullove.txt', 'kneeslapper.txt', 'shulk.txt', 'telefone.txt', 'traitor.txt', 'fea1', 'kneeslapper', 'elveshoe.txt', 'tailbear.txt', 'luf', 'dicksong.txt', 'vainsong.txt', 'antcrick.txt', 'dicegame.txt', 'cum', 'burn', 'lionbird', 'flytrunk.txt', 'frum', '14.lws', 'quarter.c7', 'fearmnky', 'rid.txt', 'abyss.txt', 'aminegg.txt', 'wanderer.fun', 'fleas.txt', 'stairdre.txt', 'flute.txt', 'snowmaid.txt', 'quarter.c11', 'blasters.fic', 'burltrs', 'oxfrog.txt', 'aircon.txt', 'bulolli1.txt', 'sunday.txt', 'cameloto.hum', 'cabin.txt', 'toilet.s', 'horswolf.txt', 'poem-1.txt', 'qcarroll', 'blossom.pom', '3sonnets.vrs', 'foxncrow.txt', 'obstgoat.txt', 'the-tree.txt', 'quarter.c16', 'foxngrap.txt', 'peace.fun', 'life.txt', 'myeyes', 'vampword.txt', 'clevdonk.txt', 'quarter.c6', 'quarter.c4', 'greedog.txt']\n"
          ],
          "name": "stdout"
        }
      ]
    },
    {
      "cell_type": "code",
      "metadata": {
        "colab": {
          "base_uri": "https://localhost:8080/"
        },
        "id": "KSEHwSaHXFgz",
        "outputId": "07d11c65-eb8a-4ba8-f374-eb82da966bd6"
      },
      "source": [
        "query = \"equality,sculpted,plenipotentiary\"\r\n",
        "operator = \"[  AND NOT,OR NOT]\"\r\n",
        "queryFinal,op=proquery(query,operator)\r\n",
        "partc(queryFinal,op)"
      ],
      "execution_count": null,
      "outputs": [
        {
          "output_type": "stream",
          "text": [
            "Output - \n",
            "Number of documents matched:  467\n",
            "No. of comparisons required:  470\n",
            "['gulliver.txt', 'outcast.dos', 'tao3.dos', 'aesopa10.txt', 'perf', 'enchdup.hum', 'eyeargon.hum', '3wishes.txt', 'bagelman.txt', 'diaryflf.txt', 'bagel.man', 'aesop11.txt', 'dakota.txt', 'darkness.txt', 'long1-3.txt', 'nigel.10', '4moons.txt', 'beggars.txt', 'fgoose.txt', 'hound-b.txt', 'hellmach.txt', 'hitch2.txt', 'hitch3.txt', 'modemhippy.txt', 'startrek.txt', 'sre02.txt', 'sre03.txt', '16.lws', 'deathmrs.d', 'quarter.c3', 'crazy.hum', 'rocket.sf', 'sre_finl.txt', 'quest', 'elite.app', 'fable.txt', 'history5.txt', 'beast.asc', 'robotech', 'timem.hac', 'cooldark.txt', 'cybersla.txt', 'knuckle.txt', 'panama.txt', 'rainda.txt', 'radar_ra.txt', '18.lws', 'times.fic', 'archive', 'dan', 's&m_that', 'cooldark.sto', 'sre09.txt', 'bulnland.txt', 'bureau.txt', 'horsdonk.txt', 'lament.txt', 'fic5', 'sanpedr2.txt', 'sick-kid.txt', 'solitary.txt', 'sre_sei.txt', 'blue', 'bishop00.txt', '6napolen.txt', 'burintrv.92', 'spectacl.poe', 'berternie.txt', 'how.ernie.bert', 'yukon.txt', 'blackp.txt', 'hell4.txt', 'fic3', 'silverb.txt', 'fran', 'batlslau.txt', 'wisteria.txt', 'vgilante.txt', 'zombies.txt', 'veiledl.txt', 'assorted.txt', 'buldream.txt', 'bulhuntr.txt', 'bulironb.txt', 'cardcnt.txt', 'fantasy.txt', 'girlclub.txt', 'musgrave.txt', 'missing.txt', 'paink-ws.txt', 'tcoa.txt', 'tearglas.txt', 'sre05.txt', 'nihgel_8.9', 'nigel.2', 'withdraw.cyb', 'quarter.c13', 'deal', 'fic1', 'hils', 'forgotte', 'beyond.hum', 'reap', 'rock', 'tuc_mees', 'fantasy.hum', 'nitepeek.sto', 'arcadia.sty', '13chil.txt', '6ablemen.txt', '7voysinb.txt', 'beautbst.txt', 'bgcspoof.txt', 'ccm.txt', 'dskool.txt', 'bulnoopt.txt', 'bulprint.txt', 'charlie.txt', 'empty.txt', 'gold3ber.txt', 'mcdonaldl.txt', 'lgoldbrd.txt', 'lmermaid.txt', 'lpeargrl.txt', 'lionmane.txt', 'lrrhood.txt', 'narciss.txt', 'keepmodu.txt', 'retrib.txt', 'roger1.txt', 'partya.txt', 'terrorbears.txt', 'sleprncs.txt', 'sqzply.txt', 'snowqn1.txt', 'day.in.mcdonald', 'burintrv.66', 'wall.art', 'breaks3.asc', 'breaks1.asc', 'quarter.c9', 'brain.damage', 'inter', 'floc', 'ghost', 'grav', 'gay', 'psyc', 'candle.hum', 'bigred.hum', 'vday.hum', 'fantas.hum', 'island.poe', 'domain.poe', 'superg1', 'igiv', '5orange.txt', 'jackmac.fic', 'fic2', '3student.txt', 'abbey.txt', 'blh.txt', 'bruce-p.txt', 'enginer.txt', 'mindprob.txt', 'lure.txt', 'kharian.txt', 'shoscomb.txt', 'timetrav.txt', 'sre10.txt', 'sre04.txt', 'breaks2.asc', 'nigel.4', 'quarter.c8', 'home.fil', 'tin', 'descent.poe', 'adler.txt', 'fred.txt', 'thewave', 'aquith.txt', 'flktrp.txt', 'holmesbk.txt', 'sre-dark.txt', 'taxnovel.txt', 'quarter.c19', 'freeman.fil', 'angelfur.hum', 'safe', 'piracy.sto', 'paul_har.sto', 'enya_trn.txt', 's&m_plot', 'non4', 'fea2', '100west.txt', 'whgdsreg.reg', 'keeping.insanit', 'quarter.c18', 'fourth.fic', 'lil', '3gables.txt', '3lpigs.txt', 'wlgirl.txt', 'weaver.txt', '7oldsamr.txt', 'wolflamb.txt', 'advsayed.txt', 'wolf7kid.txt', 'adv_alad.txt', 'ab40thv.txt', 'weeprncs.txt', 'wolfcran.txt', 'alad10.txt', 'buggy.txt', 'bgb.txt', 'alissadl.txt', 'bluebrd.txt', 'advtthum.txt', 'aislesix.txt', 'blabnove.txt', 'arctic.txt', 'buldetal.txt', 'angry_ca.txt', 'blind.txt', 'bulfelis.txt', 'deer.txt', 'bulphrek.txt', 'bulmrx.txt', 'cmoutmou.txt', 'dopedenn.txt', 'campfire.txt', 'discocanbefun.txt', 'crabhern.txt', 'bulzork1.txt', 'bulolli2.txt', 'glimpse1.txt', 'foxnstrk.txt', 'fish.txt', 'game.txt', 'floobs.txt', 'gloves.txt', 'encamp01.txt', 'dtruck.txt', 'friends.txt', 'gatherng.txt', 'emperor3.txt', 'goldenp.txt', 'excerpt.txt', 'gemdra.txt', 'empnclot.txt', 'frogp.txt', 'empsjowk.txt', 'hotline1.txt', 'healer.txt', 'helmfuse.txt', 'hansgrtl.txt', 'hotline4.txt', 'goldgoos.txt', 'jackbstl.txt', 'hareporc.txt', 'hareleph.txt', 'imonly17.txt', 'haretort.txt', 'goldfish.txt', 'hotline3.txt', 'hole2nar.txt', 'graymare.txt', 'monkking.txt', 'mattress.txt', 'mydream.txt', 'kzap.txt', 'lmtchgrl.txt', 'mouslion.txt', 'melissa.txt', 'lionmosq.txt', 'monksol.txt', 'mazarin.txt', 'mike.txt', 'mtinder.txt', 'lionwar.txt', 'musibrem.txt', 'shrdfarm.txt', 'poem-2.txt', 'plescopm.txt', 'omarsheh.txt', 'poplstrm.txt', 'psf.txt', 'pinocch.txt', 'running.txt', 'poem-4.txt', 'parotsha.txt', 'pepdegener.txt', 'pregn.txt', 'redragon.txt', 'reality.txt', 'sight.txt', 'pussboot.txt', 'pphamlin.txt', 'snow.txt', 'space.txt', 'tree.txt', 'spiders.txt', 'tctac.txt', 'unluckwr.txt', 'sucker.txt', 'vaincrow.txt', 'spider.txt', 'socialvikings.txt', 'uglyduck.txt', 'tinsoldr.txt', 'sre_feqh.txt', 'sre06.txt', 'sretrade.txt', 'srex.txt', 'sre07.txt', 'sre08.txt', 'jaynejob.asc', 'bookem.1', 'burintrv.78', 'nigel.6', 'bulwer.lytton', '20.lws', '17.lws', 'nigel.3', 'nigel.1', 'jim.asc', 'stainles.ana', 'prince.art', 'quarter.c1', '19.lws', 'nigel.5', 'pepsi.degenerat', 'quarter.c2', 'fowl.death', 'blak', 'cow.exploder', 'bern', 'quarter.c14', 'quarter.c12', 'bestwish', 'quarter.c5', 'asop', 'quarter.c10', 'blackrdr', 'quarter.c17', 'quarter.c15', 'dwar', 'bookem2', 'ltp', 'comp', 'bram', 'fea3', 'fic7', 'enc', 'immortal', 'bran', 'clon', 'ezoff', 'fic4', 'chik', 'bookem3', 'girl', 'bumm', 'szechuan', 'non3', 'quickfix', 'curious.george', 'wrt', 'thanksg', 'stsgreek', 'disco.be.fun', 'altside.hum', 'confilct.fun', 'write', 'sis', 'progx', 'psi', 'valen', 'quot', 'non2', 'mindwar', 'aluminum.hum', 'fear.hum', 'idi.hum', 'spam.key', 'excerpt.hum', 'ladylust.hum', 'consumdr.hum', 'blabnove.hum', 'testpilo.hum', 'contrad1.hum', 'greatlrn.leg', 'imagin.hum', 't_zone.jok', 'jerichms.hum', 'corcor.hum', 'immorti.hum', 'hop-frog.poe', 'goldbug.poe', 'textfile.primer', 'korea.s', 'friend.s', 'aisle.six', 'social.vikings', 'wombat.und', 'mario.txt', 'nigel.7', 'sre01.txt', 'bullove.txt', 'kneeslapper.txt', 'shulk.txt', 'telefone.txt', 'traitor.txt', 'fea1', 'kneeslapper', 'elveshoe.txt', 'tailbear.txt', 'luf', 'dicksong.txt', 'vainsong.txt', 'antcrick.txt', 'dicegame.txt', 'cum', 'burn', 'lionbird', 'flytrunk.txt', 'frum', '14.lws', 'quarter.c7', 'fearmnky', 'rid.txt', 'abyss.txt', 'aminegg.txt', 'wanderer.fun', 'fleas.txt', 'stairdre.txt', 'flute.txt', 'snowmaid.txt', 'quarter.c11', 'blasters.fic', 'burltrs', 'oxfrog.txt', 'aircon.txt', 'bulolli1.txt', 'sunday.txt', 'cameloto.hum', 'cabin.txt', 'toilet.s', 'horswolf.txt', 'poem-1.txt', 'qcarroll', 'blossom.pom', '3sonnets.vrs', 'foxncrow.txt', 'obstgoat.txt', 'the-tree.txt', 'quarter.c16', 'foxngrap.txt', 'peace.fun', 'life.txt', 'myeyes', 'vampword.txt', 'clevdonk.txt', 'quarter.c6', 'quarter.c4', 'greedog.txt']\n"
          ],
          "name": "stdout"
        }
      ]
    },
    {
      "cell_type": "code",
      "metadata": {
        "colab": {
          "base_uri": "https://localhost:8080/"
        },
        "id": "3t2vtZIYQ9GA",
        "outputId": "9a8a3e26-11ba-4ad1-857c-8896281762f3"
      },
      "source": [
        "query = \"abandon babble cabby\"\r\n",
        "operator = \"[AnD NOT, OR NOT]\"\r\n",
        "queryFinal,op=proquery(query,operator)\r\n",
        "partc(queryFinal,op)"
      ],
      "execution_count": null,
      "outputs": [
        {
          "output_type": "stream",
          "text": [
            "Output - \n",
            "Number of documents matched:  467\n",
            "No. of comparisons required:  487\n",
            "['ab40thv.txt', 'blackp.txt', 'hansgrtl.txt', 'hound-b.txt', 'paink-ws.txt', 'sre-dark.txt', 'outcast.dos', 'lil', 'ezoff', 'superg1', 'timem.hac', 'enchdup.hum', 'consumdr.hum', 'goldbug.poe', 'rocket.sf', 'korea.s', 'spectacl.poe', 'domain.poe', 'aesopa10.txt', 'gulliver.txt', 'perf', 'eyeargon.hum', '3wishes.txt', 'bagelman.txt', 'diaryflf.txt', 'bagel.man', 'aesop11.txt', 'dakota.txt', 'darkness.txt', 'long1-3.txt', 'nigel.10', '4moons.txt', 'beggars.txt', 'fgoose.txt', 'hellmach.txt', 'hitch2.txt', 'hitch3.txt', 'modemhippy.txt', 'startrek.txt', 'sre02.txt', 'sre03.txt', '16.lws', 'deathmrs.d', 'quarter.c3', 'crazy.hum', 'sre_finl.txt', 'quest', 'elite.app', 'fable.txt', 'history5.txt', 'beast.asc', 'robotech', 'tao3.dos', 'cooldark.txt', 'cybersla.txt', 'knuckle.txt', 'panama.txt', 'rainda.txt', 'radar_ra.txt', '18.lws', 'times.fic', 'archive', 'dan', 's&m_that', 'cooldark.sto', 'sre09.txt', 'bulnland.txt', 'bureau.txt', 'horsdonk.txt', 'lament.txt', 'fic5', 'sanpedr2.txt', 'sick-kid.txt', 'solitary.txt', 'sre_sei.txt', 'blue', 'bishop00.txt', '6napolen.txt', 'burintrv.92', 'berternie.txt', 'how.ernie.bert', 'yukon.txt', 'hell4.txt', 'fic3', 'silverb.txt', 'fran', 'batlslau.txt', 'wisteria.txt', 'vgilante.txt', 'zombies.txt', 'veiledl.txt', 'assorted.txt', 'buldream.txt', 'bulhuntr.txt', 'bulironb.txt', 'cardcnt.txt', 'fantasy.txt', 'girlclub.txt', 'musgrave.txt', 'missing.txt', 'tcoa.txt', 'tearglas.txt', 'sre05.txt', 'nihgel_8.9', 'nigel.2', 'withdraw.cyb', 'quarter.c13', 'deal', 'fic1', 'hils', 'forgotte', 'beyond.hum', 'reap', 'rock', 'tuc_mees', 'fantasy.hum', 'nitepeek.sto', 'arcadia.sty', '13chil.txt', '6ablemen.txt', '7voysinb.txt', 'beautbst.txt', 'bgcspoof.txt', 'ccm.txt', 'dskool.txt', 'bulnoopt.txt', 'bulprint.txt', 'charlie.txt', 'empty.txt', 'gold3ber.txt', 'mcdonaldl.txt', 'lgoldbrd.txt', 'lmermaid.txt', 'lpeargrl.txt', 'lionmane.txt', 'lrrhood.txt', 'narciss.txt', 'keepmodu.txt', 'retrib.txt', 'roger1.txt', 'partya.txt', 'terrorbears.txt', 'sleprncs.txt', 'sqzply.txt', 'snowqn1.txt', 'day.in.mcdonald', 'burintrv.66', 'wall.art', 'breaks3.asc', 'breaks1.asc', 'quarter.c9', 'brain.damage', 'inter', 'floc', 'ghost', 'grav', 'gay', 'psyc', 'candle.hum', 'bigred.hum', 'vday.hum', 'fantas.hum', 'island.poe', 'igiv', '5orange.txt', 'jackmac.fic', 'fic2', '3student.txt', 'abbey.txt', 'blh.txt', 'bruce-p.txt', 'enginer.txt', 'mindprob.txt', 'lure.txt', 'kharian.txt', 'shoscomb.txt', 'timetrav.txt', 'sre10.txt', 'sre04.txt', 'breaks2.asc', 'nigel.4', 'quarter.c8', 'home.fil', 'tin', 'descent.poe', 'adler.txt', 'fred.txt', 'thewave', 'aquith.txt', 'flktrp.txt', 'holmesbk.txt', 'taxnovel.txt', 'quarter.c19', 'freeman.fil', 'angelfur.hum', 'safe', 'piracy.sto', 'paul_har.sto', 'enya_trn.txt', 's&m_plot', 'non4', 'fea2', '100west.txt', 'whgdsreg.reg', 'keeping.insanit', 'quarter.c18', 'fourth.fic', '3gables.txt', '3lpigs.txt', 'wlgirl.txt', 'weaver.txt', '7oldsamr.txt', 'wolflamb.txt', 'advsayed.txt', 'wolf7kid.txt', 'adv_alad.txt', 'weeprncs.txt', 'wolfcran.txt', 'alad10.txt', 'buggy.txt', 'bgb.txt', 'alissadl.txt', 'bluebrd.txt', 'advtthum.txt', 'aislesix.txt', 'blabnove.txt', 'arctic.txt', 'buldetal.txt', 'angry_ca.txt', 'blind.txt', 'bulfelis.txt', 'deer.txt', 'bulphrek.txt', 'bulmrx.txt', 'cmoutmou.txt', 'dopedenn.txt', 'campfire.txt', 'discocanbefun.txt', 'crabhern.txt', 'bulzork1.txt', 'bulolli2.txt', 'glimpse1.txt', 'foxnstrk.txt', 'fish.txt', 'game.txt', 'floobs.txt', 'gloves.txt', 'encamp01.txt', 'dtruck.txt', 'friends.txt', 'gatherng.txt', 'emperor3.txt', 'goldenp.txt', 'excerpt.txt', 'gemdra.txt', 'empnclot.txt', 'frogp.txt', 'empsjowk.txt', 'hotline1.txt', 'healer.txt', 'helmfuse.txt', 'hotline4.txt', 'goldgoos.txt', 'jackbstl.txt', 'hareporc.txt', 'hareleph.txt', 'imonly17.txt', 'haretort.txt', 'goldfish.txt', 'hotline3.txt', 'hole2nar.txt', 'graymare.txt', 'monkking.txt', 'mattress.txt', 'mydream.txt', 'kzap.txt', 'lmtchgrl.txt', 'mouslion.txt', 'melissa.txt', 'lionmosq.txt', 'monksol.txt', 'mazarin.txt', 'mike.txt', 'mtinder.txt', 'lionwar.txt', 'musibrem.txt', 'shrdfarm.txt', 'poem-2.txt', 'plescopm.txt', 'omarsheh.txt', 'poplstrm.txt', 'psf.txt', 'pinocch.txt', 'running.txt', 'poem-4.txt', 'parotsha.txt', 'pepdegener.txt', 'pregn.txt', 'redragon.txt', 'reality.txt', 'sight.txt', 'pussboot.txt', 'pphamlin.txt', 'snow.txt', 'space.txt', 'tree.txt', 'spiders.txt', 'tctac.txt', 'unluckwr.txt', 'sucker.txt', 'vaincrow.txt', 'spider.txt', 'socialvikings.txt', 'uglyduck.txt', 'tinsoldr.txt', 'sre_feqh.txt', 'sre06.txt', 'sretrade.txt', 'srex.txt', 'sre07.txt', 'sre08.txt', 'jaynejob.asc', 'bookem.1', 'burintrv.78', 'nigel.6', 'bulwer.lytton', '20.lws', '17.lws', 'nigel.3', 'nigel.1', 'jim.asc', 'stainles.ana', 'prince.art', 'quarter.c1', '19.lws', 'nigel.5', 'pepsi.degenerat', 'quarter.c2', 'fowl.death', 'blak', 'cow.exploder', 'bern', 'quarter.c14', 'quarter.c12', 'bestwish', 'quarter.c5', 'asop', 'quarter.c10', 'blackrdr', 'quarter.c17', 'quarter.c15', 'dwar', 'bookem2', 'ltp', 'comp', 'bram', 'fea3', 'fic7', 'enc', 'immortal', 'bran', 'clon', 'fic4', 'chik', 'bookem3', 'girl', 'bumm', 'szechuan', 'non3', 'quickfix', 'curious.george', 'wrt', 'thanksg', 'stsgreek', 'disco.be.fun', 'altside.hum', 'confilct.fun', 'write', 'sis', 'progx', 'psi', 'valen', 'quot', 'non2', 'mindwar', 'aluminum.hum', 'fear.hum', 'idi.hum', 'spam.key', 'excerpt.hum', 'ladylust.hum', 'blabnove.hum', 'testpilo.hum', 'contrad1.hum', 'greatlrn.leg', 'imagin.hum', 't_zone.jok', 'jerichms.hum', 'corcor.hum', 'immorti.hum', 'hop-frog.poe', 'textfile.primer', 'friend.s', 'aisle.six', 'social.vikings', 'wombat.und', 'mario.txt', 'nigel.7', 'sre01.txt', 'bullove.txt', 'kneeslapper.txt', 'shulk.txt', 'telefone.txt', 'traitor.txt', 'fea1', 'kneeslapper', 'elveshoe.txt', 'tailbear.txt', 'luf', 'dicksong.txt', 'vainsong.txt', 'antcrick.txt', 'dicegame.txt', 'cum', 'burn', 'lionbird', 'flytrunk.txt', 'frum', '14.lws', 'quarter.c7', 'fearmnky', 'rid.txt', 'abyss.txt', 'aminegg.txt', 'wanderer.fun', 'fleas.txt', 'stairdre.txt', 'flute.txt', 'snowmaid.txt', 'quarter.c11', 'blasters.fic', 'burltrs', 'oxfrog.txt', 'aircon.txt', 'bulolli1.txt', 'sunday.txt', 'cameloto.hum', 'cabin.txt', 'toilet.s', 'horswolf.txt', 'poem-1.txt', 'qcarroll', 'blossom.pom', '3sonnets.vrs', 'foxncrow.txt', 'obstgoat.txt', 'the-tree.txt', 'quarter.c16', 'foxngrap.txt', 'peace.fun', 'life.txt', 'myeyes', 'vampword.txt', 'clevdonk.txt', 'quarter.c6', 'quarter.c4', 'greedog.txt']\n"
          ],
          "name": "stdout"
        }
      ]
    },
    {
      "cell_type": "code",
      "metadata": {
        "colab": {
          "base_uri": "https://localhost:8080/"
        },
        "id": "a7TBNGkQtftU",
        "outputId": "29520528-d5ce-4df4-fa0b-1b4a1c7a3b54"
      },
      "source": [
        "query = \"SUMMER winter cold RAIN pig\"\r\n",
        "operator = \"[AND nOT, OR, AND NOT, OR NOT]\"\r\n",
        "queryFinal,op=proquery(query,operator)\r\n",
        "partc(queryFinal,op)"
      ],
      "execution_count": null,
      "outputs": [
        {
          "output_type": "stream",
          "text": [
            "Output - \n",
            "Number of documents matched:  467\n",
            "No. of comparisons required:  797\n",
            "['vgilante.txt', 'adler.txt', 'bagelman.txt', 'cybersla.txt', 'bulironb.txt', 'bullove.txt', 'enginer.txt', 'hellmach.txt', 'graymare.txt', 'mazarin.txt', 'keepmodu.txt', 'shoscomb.txt', 'solitary.txt', 'taxnovel.txt', 'burintrv.66', 'burintrv.78', 'nigel.4', 'bagel.man', 'quarter.c2', 'blackrdr', 'bookem2', 'lil', 'inter', 'ghost', 'fic7', 'enc', 'fic4', 'non4', 'altside.hum', 'write', 'enchdup.hum', 'consumdr.hum', 'cameloto.hum', 't_zone.jok', 'korea.s', 'arcadia.sty', 'yukon.txt', '6napolen.txt', '100west.txt', 'wlgirl.txt', '7oldsamr.txt', '6ablemen.txt', 'zombies.txt', 'veiledl.txt', 'abbey.txt', 'alad10.txt', 'blh.txt', 'beautbst.txt', 'batlslau.txt', 'beggars.txt', 'bishop00.txt', 'bruce-p.txt', 'aesopa10.txt', 'berternie.txt', 'arctic.txt', 'blind.txt', 'antcrick.txt', 'cabin.txt', 'bulphrek.txt', 'bulmrx.txt', 'bureau.txt', 'buldream.txt', 'dskool.txt', 'campfire.txt', 'bulhuntr.txt', 'diaryflf.txt', 'cardcnt.txt', 'fantasy.txt', 'empty.txt', 'elveshoe.txt', 'emperor3.txt', 'empnclot.txt', 'hansgrtl.txt', 'hole2nar.txt', 'mcdonaldl.txt', 'kzap.txt', 'missing.txt', 'lmtchgrl.txt', 'melissa.txt', 'narciss.txt', 'knuckle.txt', 'poplstrm.txt', 'poem-1.txt', 'psf.txt', 'pinocch.txt', 'running.txt', 'parotsha.txt', 'sick-kid.txt', 'sight.txt', 'snowmaid.txt', 'tailbear.txt', 'tcoa.txt', 'sre-dark.txt', 'sqzply.txt', 'uglyduck.txt', 'snowqn1.txt', 'sre_feqh.txt', 'sre_finl.txt', 'sre08.txt', 'nihgel_8.9', 'day.in.mcdonald', 'breaks2.asc', 'nigel.10', 'beast.asc', '16.lws', 'how.ernie.bert', 'wall.art', 'elite.app', 'nigel.7', 'burintrv.92', 'quarter.c1', '19.lws', 'deathmrs.d', 'freeman.fil', 'fran', 'deal', 'fic5', 'grav', 'igiv', 'hils', 'fic3', 'gay', 'szechuan', 'rock', 'sis', 'perf', 'psi', 'valen', 's&m_that', 'aluminum.hum', 'spam.key', 'crazy.hum', 'fantasy.hum', 'eyeargon.hum', 'candle.hum', 'corcor.hum', 'fantas.hum', 'piracy.sto', 'nitepeek.sto', 'rocket.sf', 'friend.s', 'gulliver.txt', '3wishes.txt', 'outcast.dos', 'aesop11.txt', 'dakota.txt', 'darkness.txt', 'long1-3.txt', '4moons.txt', 'fgoose.txt', 'hound-b.txt', 'hitch2.txt', 'hitch3.txt', 'modemhippy.txt', 'startrek.txt', 'sre02.txt', 'sre03.txt', 'quarter.c3', 'quest', 'fable.txt', 'history5.txt', 'robotech', 'tao3.dos', 'timem.hac', 'cooldark.txt', 'panama.txt', 'rainda.txt', 'radar_ra.txt', '18.lws', 'times.fic', 'archive', 'dan', 'cooldark.sto', 'sre09.txt', 'bulnland.txt', 'horsdonk.txt', 'lament.txt', 'sanpedr2.txt', 'sre_sei.txt', 'blue', 'spectacl.poe', 'blackp.txt', 'hell4.txt', 'silverb.txt', 'wisteria.txt', 'assorted.txt', 'girlclub.txt', 'musgrave.txt', 'paink-ws.txt', 'tearglas.txt', 'sre05.txt', 'nigel.2', 'withdraw.cyb', 'quarter.c13', 'fic1', 'forgotte', 'beyond.hum', 'reap', 'tuc_mees', '13chil.txt', '7voysinb.txt', 'bgcspoof.txt', 'ccm.txt', 'bulnoopt.txt', 'bulprint.txt', 'charlie.txt', 'gold3ber.txt', 'lgoldbrd.txt', 'lmermaid.txt', 'lpeargrl.txt', 'lionmane.txt', 'lrrhood.txt', 'retrib.txt', 'roger1.txt', 'partya.txt', 'terrorbears.txt', 'sleprncs.txt', 'breaks3.asc', 'breaks1.asc', 'quarter.c9', 'brain.damage', 'floc', 'psyc', 'bigred.hum', 'vday.hum', 'island.poe', 'domain.poe', 'superg1', '5orange.txt', 'jackmac.fic', 'fic2', '3student.txt', 'mindprob.txt', 'lure.txt', 'kharian.txt', 'timetrav.txt', 'sre10.txt', 'sre04.txt', 'quarter.c8', 'home.fil', 'tin', 'descent.poe', 'fred.txt', 'thewave', 'aquith.txt', 'flktrp.txt', 'holmesbk.txt', 'quarter.c19', 'angelfur.hum', 'safe', 'paul_har.sto', 'enya_trn.txt', 's&m_plot', 'fea2', 'whgdsreg.reg', 'keeping.insanit', 'quarter.c18', 'fourth.fic', '3gables.txt', '3lpigs.txt', 'weaver.txt', 'wolflamb.txt', 'advsayed.txt', 'wolf7kid.txt', 'adv_alad.txt', 'ab40thv.txt', 'weeprncs.txt', 'wolfcran.txt', 'buggy.txt', 'bgb.txt', 'alissadl.txt', 'bluebrd.txt', 'advtthum.txt', 'aislesix.txt', 'blabnove.txt', 'buldetal.txt', 'angry_ca.txt', 'bulfelis.txt', 'deer.txt', 'cmoutmou.txt', 'dopedenn.txt', 'discocanbefun.txt', 'crabhern.txt', 'bulzork1.txt', 'bulolli2.txt', 'glimpse1.txt', 'foxnstrk.txt', 'fish.txt', 'game.txt', 'floobs.txt', 'gloves.txt', 'encamp01.txt', 'dtruck.txt', 'friends.txt', 'gatherng.txt', 'goldenp.txt', 'excerpt.txt', 'gemdra.txt', 'frogp.txt', 'empsjowk.txt', 'hotline1.txt', 'healer.txt', 'helmfuse.txt', 'hotline4.txt', 'goldgoos.txt', 'jackbstl.txt', 'hareporc.txt', 'hareleph.txt', 'imonly17.txt', 'haretort.txt', 'goldfish.txt', 'hotline3.txt', 'monkking.txt', 'mattress.txt', 'mydream.txt', 'mouslion.txt', 'lionmosq.txt', 'monksol.txt', 'mike.txt', 'mtinder.txt', 'lionwar.txt', 'musibrem.txt', 'shrdfarm.txt', 'poem-2.txt', 'plescopm.txt', 'omarsheh.txt', 'poem-4.txt', 'pepdegener.txt', 'pregn.txt', 'redragon.txt', 'reality.txt', 'pussboot.txt', 'pphamlin.txt', 'snow.txt', 'space.txt', 'tree.txt', 'spiders.txt', 'tctac.txt', 'unluckwr.txt', 'sucker.txt', 'vaincrow.txt', 'spider.txt', 'socialvikings.txt', 'tinsoldr.txt', 'sre06.txt', 'sretrade.txt', 'srex.txt', 'sre07.txt', 'jaynejob.asc', 'bookem.1', 'nigel.6', 'bulwer.lytton', '20.lws', '17.lws', 'nigel.3', 'nigel.1', 'jim.asc', 'stainles.ana', 'prince.art', 'nigel.5', 'pepsi.degenerat', 'fowl.death', 'blak', 'cow.exploder', 'bern', 'quarter.c14', 'quarter.c12', 'bestwish', 'quarter.c5', 'asop', 'quarter.c10', 'quarter.c17', 'quarter.c15', 'dwar', 'ltp', 'comp', 'bram', 'fea3', 'immortal', 'bran', 'clon', 'ezoff', 'chik', 'bookem3', 'girl', 'bumm', 'non3', 'quickfix', 'curious.george', 'wrt', 'thanksg', 'stsgreek', 'disco.be.fun', 'confilct.fun', 'progx', 'quot', 'non2', 'mindwar', 'fear.hum', 'idi.hum', 'excerpt.hum', 'ladylust.hum', 'blabnove.hum', 'testpilo.hum', 'contrad1.hum', 'greatlrn.leg', 'imagin.hum', 'jerichms.hum', 'immorti.hum', 'hop-frog.poe', 'goldbug.poe', 'textfile.primer', 'aisle.six', 'social.vikings', 'wombat.und', 'mario.txt', 'sre01.txt', 'kneeslapper.txt', 'shulk.txt', 'telefone.txt', 'traitor.txt', 'fea1', 'kneeslapper', 'luf', 'dicksong.txt', 'vainsong.txt', 'dicegame.txt', 'cum', 'burn', 'lionbird', 'flytrunk.txt', 'frum', '14.lws', 'quarter.c7', 'fearmnky', 'rid.txt', 'abyss.txt', 'aminegg.txt', 'wanderer.fun', 'fleas.txt', 'stairdre.txt', 'flute.txt', 'quarter.c11', 'blasters.fic', 'burltrs', 'oxfrog.txt', 'aircon.txt', 'bulolli1.txt', 'sunday.txt', 'toilet.s', 'horswolf.txt', 'qcarroll', 'blossom.pom', '3sonnets.vrs', 'foxncrow.txt', 'obstgoat.txt', 'the-tree.txt', 'quarter.c16', 'foxngrap.txt', 'peace.fun', 'life.txt', 'myeyes', 'vampword.txt', 'clevdonk.txt', 'quarter.c6', 'quarter.c4', 'greedog.txt']\n"
          ],
          "name": "stdout"
        }
      ]
    },
    {
      "cell_type": "code",
      "metadata": {
        "colab": {
          "base_uri": "https://localhost:8080/"
        },
        "id": "DQmn_n9msGSs",
        "outputId": "0c26b813-1409-4690-b8d5-209b35db199d"
      },
      "source": [
        "N = input(\"Enter N: \") \r\n",
        "N=int(N) \r\n",
        "q=[]\r\n",
        "o=[]\r\n",
        "for i in range(N):\r\n",
        "   r=input(\"Input Query:\")\r\n",
        "   y=input(\"Input operation sequence:\")\r\n",
        "   q.append(r)\r\n",
        "   o.append(y)\r\n",
        "for i in range(N):\r\n",
        "  queryFinal,op=proquery(q[i],o[i])\r\n",
        "  partc(queryFinal,op)"
      ],
      "execution_count": null,
      "outputs": [
        {
          "output_type": "stream",
          "text": [
            "Enter N: 2\n",
            "Input Query:lion STOOD thoughtfully a for a moment\n",
            "Input operation sequence:OR,OR,OR\n",
            "Input Query:telephone,   paved, roads\n",
            "Input operation sequence:[ OR NOT, AND NOT]\n",
            "Output - \n",
            "Number of documents matched:  270\n",
            "No. of comparisons required:  695\n",
            "['yukon.txt', 'vgilante.txt', 'veiledl.txt', 'abbey.txt', 'beggars.txt', 'aesop11.txt', 'aesopa10.txt', 'girlclub.txt', 'fgoose.txt', 'holmesbk.txt', 'monkking.txt', 'mouslion.txt', 'lionmosq.txt', 'lionmane.txt', 'mazarin.txt', 'lionwar.txt', 'redragon.txt', 'pussboot.txt', 'silverb.txt', 'blasters.fic', 'quarter.c18', 'archive', 'bookem2', 'fic5', 'grav', 'chik', 'idi.hum', 'korea.s', '13chil.txt', '6napolen.txt', '3gables.txt', 'wlgirl.txt', 'advsayed.txt', 'wisteria.txt', '3student.txt', '5orange.txt', '4moons.txt', 'zombies.txt', '7voysinb.txt', 'ab40thv.txt', 'alad10.txt', 'blh.txt', 'bishop00.txt', 'bruce-p.txt', 'aislesix.txt', 'blackp.txt', 'aquith.txt', 'arctic.txt', 'blind.txt', 'cooldark.txt', 'bulfelis.txt', 'bulphrek.txt', 'bulmrx.txt', 'bureau.txt', 'buldream.txt', 'darkness.txt', 'dskool.txt', 'cmoutmou.txt', 'cybersla.txt', 'bulprint.txt', 'diaryflf.txt', 'bulzork1.txt', 'cardcnt.txt', 'fantasy.txt', 'flytrunk.txt', 'game.txt', 'floobs.txt', 'empty.txt', 'enginer.txt', 'dtruck.txt', 'friends.txt', 'emperor3.txt', 'foxngrap.txt', 'gold3ber.txt', 'goldenp.txt', 'empnclot.txt', 'fred.txt', 'healer.txt', 'history5.txt', 'hound-b.txt', 'hellmach.txt', 'goldgoos.txt', 'jackbstl.txt', 'gulliver.txt', 'hareporc.txt', 'haretort.txt', 'goldfish.txt', 'hitch2.txt', 'hitch3.txt', 'graymare.txt', 'lament.txt', 'musgrave.txt', 'long1-3.txt', 'lgoldbrd.txt', 'missing.txt', 'lmtchgrl.txt', 'lrrhood.txt', 'keepmodu.txt', 'knuckle.txt', 'mtinder.txt', 'shoscomb.txt', 'poplstrm.txt', 'radar_ra.txt', 'paink-ws.txt', 'shulk.txt', 'pinocch.txt', 'running.txt', 'pepdegener.txt', 'sick-kid.txt', 'roger1.txt', 'pphamlin.txt', 'snow.txt', 'snowmaid.txt', 'tcoa.txt', 'space.txt', 'timetrav.txt', 'tree.txt', 'tearglas.txt', 'solitary.txt', 'unluckwr.txt', 'vainsong.txt', 'sleprncs.txt', 'taxnovel.txt', 'sqzply.txt', 'socialvikings.txt', 'snowqn1.txt', 'sre10.txt', 'sre09.txt', 'srex.txt', 'sre_finl.txt', 'sre04.txt', 'nihgel_8.9', 'breaks2.asc', 'beast.asc', '18.lws', 'bookem.1', 'wall.art', 'elite.app', 'breaks3.asc', 'breaks1.asc', 'stainles.ana', 'nigel.5', 'outcast.dos', 'pepsi.degenerat', 'jackmac.fic', 'home.fil', 'brain.damage', 'quarter.c17', 'freeman.fil', 'quarter.c3', 'dwar', 'fran', 'cum', 'dan', 'fic2', 'lil', 'blue', 'ltp', 'inter', 'floc', 'ghost', 'fic1', 'igiv', 'enc', 'hils', 'bran', 'clon', 'ezoff', 'fic4', 'fic3', 'forgotte', 'superg1', 'timem.hac', 'qcarroll', 'beyond.hum', 'reap', 'rock', 'tuc_mees', 's&m_plot', 'quest', 'angelfur.hum', 'robotech', 'sis', 'perf', 'psi', 'valen', 's&m_that', 'aluminum.hum', 'spam.key', 'enchdup.hum', 'crazy.hum', 'fantasy.hum', 'ladylust.hum', 'eyeargon.hum', 'testpilo.hum', 'imagin.hum', 'jerichms.hum', 'corcor.hum', 'immorti.hum', 'piracy.sto', 'hop-frog.poe', 'nitepeek.sto', 'goldbug.poe', 'cooldark.sto', 'rocket.sf', 'descent.poe', 'friend.s', 'spectacl.poe', 'island.poe', 'aisle.six', 'arcadia.sty', 'social.vikings', 'bulwer.lytton', '3lpigs.txt', 'adv_alad.txt', 'beautbst.txt', 'buggy.txt', 'bluebrd.txt', 'bgcspoof.txt', 'blabnove.txt', 'angry_ca.txt', 'bulolli1.txt', 'deer.txt', 'dopedenn.txt', 'bulironb.txt', 'bulolli2.txt', 'fish.txt', 'enya_trn.txt', 'foxncrow.txt', 'hotline1.txt', 'greedog.txt', 'hotline3.txt', 'horswolf.txt', 'mattress.txt', 'mcdonaldl.txt', 'lure.txt', 'plescopm.txt', 'rainda.txt', 'psf.txt', 'pregn.txt', 'retrib.txt', 'sight.txt', 'sre-dark.txt', 'spiders.txt', 'sre06.txt', 'sre07.txt', 'day.in.mcdonald', 'nigel.10', '16.lws', 'burintrv.92', '20.lws', 'nigel.2', 'nigel.3', 'quarter.c1', '19.lws', 'withdraw.cyb', 'blak', 'bestwish', 'quarter.c13', 'fourth.fic', 'deal', 'fic7', 'immortal', 'bookem3', 'szechuan', '14.lws', 'consumdr.hum', 'blabnove.hum', 'vday.hum', 'domain.poe']\n",
            "Output - \n",
            "Number of documents matched:  348\n",
            "No. of comparisons required:  586\n",
            "['aircon.txt', 'bulzork1.txt', 'excerpt.txt', 'hotline4.txt', 'graymare.txt', 'paink-ws.txt', 'running.txt', 'space.txt', 'telefone.txt', 'sqzply.txt', 'jaynejob.asc', 'ghost', 'szechuan', 'timem.hac', 'progx', 'excerpt.hum', 'corcor.hum', 'korea.s', 'eyeargon.hum', '3wishes.txt', 'bagelman.txt', 'bagel.man', 'dakota.txt', 'nigel.10', '4moons.txt', 'modemhippy.txt', 'startrek.txt', 'sre02.txt', 'sre03.txt', 'deathmrs.d', 'quarter.c3', 'rocket.sf', 'sre_finl.txt', 'quest', 'elite.app', 'fable.txt', 'beast.asc', 'tao3.dos', 'knuckle.txt', 'panama.txt', 'rainda.txt', '18.lws', 'times.fic', 'dan', 's&m_that', 'sre09.txt', 'bulnland.txt', 'horsdonk.txt', 'sanpedr2.txt', 'sre_sei.txt', 'blue', 'bishop00.txt', 'burintrv.92', 'spectacl.poe', 'berternie.txt', 'how.ernie.bert', 'hell4.txt', 'fic3', 'batlslau.txt', 'buldream.txt', 'bulhuntr.txt', 'bulironb.txt', 'cardcnt.txt', 'girlclub.txt', 'tcoa.txt', 'tearglas.txt', 'sre05.txt', 'nigel.2', 'withdraw.cyb', 'quarter.c13', 'deal', 'fic1', 'beyond.hum', 'tuc_mees', 'arcadia.sty', '7voysinb.txt', 'ccm.txt', 'dskool.txt', 'bulnoopt.txt', 'bulprint.txt', 'gold3ber.txt', 'lgoldbrd.txt', 'lmermaid.txt', 'lpeargrl.txt', 'lrrhood.txt', 'narciss.txt', 'keepmodu.txt', 'retrib.txt', 'terrorbears.txt', 'sleprncs.txt', 'snowqn1.txt', 'burintrv.66', 'wall.art', 'quarter.c9', 'brain.damage', 'floc', 'grav', 'gay', 'psyc', 'bigred.hum', 'fantas.hum', 'island.poe', 'domain.poe', 'superg1', 'igiv', 'jackmac.fic', 'fic2', '3student.txt', 'blh.txt', 'mindprob.txt', 'lure.txt', 'kharian.txt', 'timetrav.txt', 'sre10.txt', 'sre04.txt', 'nigel.4', 'quarter.c8', 'home.fil', 'tin', 'descent.poe', 'adler.txt', 'fred.txt', 'thewave', 'flktrp.txt', 'holmesbk.txt', 'quarter.c19', 'freeman.fil', 'angelfur.hum', 'piracy.sto', 'paul_har.sto', 's&m_plot', 'non4', 'fea2', 'whgdsreg.reg', 'keeping.insanit', 'fourth.fic', 'lil', '3gables.txt', '3lpigs.txt', 'wlgirl.txt', 'weaver.txt', '7oldsamr.txt', 'wolflamb.txt', 'advsayed.txt', 'wolf7kid.txt', 'adv_alad.txt', 'ab40thv.txt', 'weeprncs.txt', 'wolfcran.txt', 'alad10.txt', 'buggy.txt', 'bgb.txt', 'alissadl.txt', 'bluebrd.txt', 'advtthum.txt', 'aislesix.txt', 'blabnove.txt', 'arctic.txt', 'buldetal.txt', 'bulfelis.txt', 'cmoutmou.txt', 'campfire.txt', 'discocanbefun.txt', 'crabhern.txt', 'bulolli2.txt', 'glimpse1.txt', 'foxnstrk.txt', 'fish.txt', 'game.txt', 'floobs.txt', 'gloves.txt', 'encamp01.txt', 'gatherng.txt', 'emperor3.txt', 'gemdra.txt', 'empnclot.txt', 'frogp.txt', 'hotline1.txt', 'healer.txt', 'helmfuse.txt', 'hansgrtl.txt', 'jackbstl.txt', 'hareporc.txt', 'hareleph.txt', 'imonly17.txt', 'haretort.txt', 'goldfish.txt', 'hotline3.txt', 'hole2nar.txt', 'monkking.txt', 'mydream.txt', 'kzap.txt', 'mouslion.txt', 'lionmosq.txt', 'monksol.txt', 'mazarin.txt', 'mike.txt', 'mtinder.txt', 'lionwar.txt', 'shrdfarm.txt', 'poem-2.txt', 'plescopm.txt', 'omarsheh.txt', 'poplstrm.txt', 'pinocch.txt', 'poem-4.txt', 'parotsha.txt', 'pepdegener.txt', 'pregn.txt', 'redragon.txt', 'pussboot.txt', 'pphamlin.txt', 'tctac.txt', 'sucker.txt', 'vaincrow.txt', 'socialvikings.txt', 'uglyduck.txt', 'tinsoldr.txt', 'sre_feqh.txt', 'sretrade.txt', 'srex.txt', 'sre07.txt', 'sre08.txt', 'bookem.1', 'burintrv.78', 'bulwer.lytton', '20.lws', '17.lws', 'jim.asc', 'stainles.ana', 'prince.art', '19.lws', 'pepsi.degenerat', 'quarter.c2', 'fowl.death', 'blak', 'cow.exploder', 'bern', 'quarter.c14', 'quarter.c12', 'bestwish', 'quarter.c5', 'asop', 'quarter.c10', 'blackrdr', 'quarter.c17', 'quarter.c15', 'dwar', 'bookem2', 'ltp', 'comp', 'fea3', 'fic7', 'enc', 'bran', 'clon', 'ezoff', 'chik', 'bookem3', 'girl', 'bumm', 'non3', 'quickfix', 'curious.george', 'wrt', 'thanksg', 'stsgreek', 'disco.be.fun', 'confilct.fun', 'write', 'sis', 'psi', 'quot', 'non2', 'mindwar', 'fear.hum', 'idi.hum', 'spam.key', 'ladylust.hum', 'blabnove.hum', 'testpilo.hum', 'contrad1.hum', 'greatlrn.leg', 'imagin.hum', 't_zone.jok', 'jerichms.hum', 'immorti.hum', 'goldbug.poe', 'textfile.primer', 'friend.s', 'aisle.six', 'social.vikings', 'mario.txt', 'nigel.7', 'sre01.txt', 'bullove.txt', 'kneeslapper.txt', 'shulk.txt', 'traitor.txt', 'fea1', 'kneeslapper', 'elveshoe.txt', 'tailbear.txt', 'luf', 'dicksong.txt', 'vainsong.txt', 'antcrick.txt', 'dicegame.txt', 'cum', 'burn', 'lionbird', 'flytrunk.txt', 'frum', '14.lws', 'quarter.c7', 'fearmnky', 'rid.txt', 'aminegg.txt', 'wanderer.fun', 'fleas.txt', 'stairdre.txt', 'flute.txt', 'snowmaid.txt', 'quarter.c11', 'blasters.fic', 'oxfrog.txt', 'bulolli1.txt', 'sunday.txt', 'cameloto.hum', 'toilet.s', 'horswolf.txt', 'poem-1.txt', 'qcarroll', 'blossom.pom', '3sonnets.vrs', 'foxncrow.txt', 'obstgoat.txt', 'the-tree.txt', 'quarter.c16', 'foxngrap.txt', 'peace.fun', 'life.txt', 'myeyes', 'vampword.txt', 'clevdonk.txt', 'quarter.c6', 'quarter.c4', 'greedog.txt']\n"
          ],
          "name": "stdout"
        }
      ]
    }
  ]
}